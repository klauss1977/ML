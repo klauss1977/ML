{
  "nbformat": 4,
  "nbformat_minor": 0,
  "metadata": {
    "colab": {
      "provenance": [],
      "authorship_tag": "ABX9TyMNdi68tGHxypv0NS9SOoV0",
      "include_colab_link": true
    },
    "kernelspec": {
      "name": "python3",
      "display_name": "Python 3"
    },
    "language_info": {
      "name": "python"
    }
  },
  "cells": [
    {
      "cell_type": "markdown",
      "metadata": {
        "id": "view-in-github",
        "colab_type": "text"
      },
      "source": [
        "<a href=\"https://colab.research.google.com/github/klauss1977/ML/blob/main/determinants-exercises.ipynb\" target=\"_parent\"><img src=\"https://colab.research.google.com/assets/colab-badge.svg\" alt=\"Open In Colab\"/></a>"
      ]
    },
    {
      "cell_type": "markdown",
      "source": [
        "# Determinantul unei matrici"
      ],
      "metadata": {
        "id": "2gfazXl9UPEK"
      }
    },
    {
      "cell_type": "markdown",
      "source": [
        "Determinantul unei matrici mapeaza o patrice patrata la un scalar"
      ],
      "metadata": {
        "id": "tCgP8-0xUckQ"
      }
    }
  ]
}