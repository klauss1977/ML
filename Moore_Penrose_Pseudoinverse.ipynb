{
  "nbformat": 4,
  "nbformat_minor": 0,
  "metadata": {
    "colab": {
      "provenance": [],
      "authorship_tag": "ABX9TyNJ4Wvb5dyqcF8VtgEYbkyz",
      "include_colab_link": true
    },
    "kernelspec": {
      "name": "python3",
      "display_name": "Python 3"
    },
    "language_info": {
      "name": "python"
    }
  },
  "cells": [
    {
      "cell_type": "markdown",
      "metadata": {
        "id": "view-in-github",
        "colab_type": "text"
      },
      "source": [
        "<a href=\"https://colab.research.google.com/github/klauss1977/ML/blob/main/Moore_Penrose_Pseudoinverse.ipynb\" target=\"_parent\"><img src=\"https://colab.research.google.com/assets/colab-badge.svg\" alt=\"Open In Colab\"/></a>"
      ]
    },
    {
      "cell_type": "markdown",
      "source": [
        "### Pseudoinversa Moore-Penrose"
      ],
      "metadata": {
        "id": "6_n4AIxMoFMg"
      }
    },
    {
      "cell_type": "markdown",
      "source": [
        "$MPP$ a unei matrici $A$, notata cu $A^+$, se calculeaza cu formula:             \n",
        " **$A^+$=$V$$D^+$$U^T$** in care:                                                \n",
        "  $U$, $D$ si $V$ sunt $SVD$ ale matricii $A$, cu $D^+$ obtinut prin inversarea valorilor nenule ale lui $D$"
      ],
      "metadata": {
        "id": "Wl7RgRzvoZru"
      }
    },
    {
      "cell_type": "markdown",
      "source": [
        "$MPP$ se foloseste pentru calcularea pseudoinversei a matricilor care nu indeplinesc conditiile pentru a putea fi inversate.\n",
        "\n",
        "Aceste conditii sunt:\n",
        "\n",
        "-matricea trebuie sa fie patrata (numar linii = numar coloane)\n",
        "\n",
        "-matricea este nesingulara (nu are linii sau coloane dependente una de cealalta)"
      ],
      "metadata": {
        "id": "Q-xvalpcqTyg"
      }
    },
    {
      "cell_type": "markdown",
      "source": [],
      "metadata": {
        "id": "fc6cQps5rLVO"
      }
    }
  ]
}