{
  "nbformat": 4,
  "nbformat_minor": 0,
  "metadata": {
    "colab": {
      "provenance": [],
      "authorship_tag": "ABX9TyNfILUp/sC4QpP2NmKxyCbs",
      "include_colab_link": true
    },
    "kernelspec": {
      "name": "python3",
      "display_name": "Python 3"
    },
    "language_info": {
      "name": "python"
    }
  },
  "cells": [
    {
      "cell_type": "markdown",
      "metadata": {
        "id": "view-in-github",
        "colab_type": "text"
      },
      "source": [
        "<a href=\"https://colab.research.google.com/github/klauss1977/ML/blob/main/Moore_Penrose_Pseudoinverse.ipynb\" target=\"_parent\"><img src=\"https://colab.research.google.com/assets/colab-badge.svg\" alt=\"Open In Colab\"/></a>"
      ]
    },
    {
      "cell_type": "markdown",
      "source": [
        "## Pseudoinversa Moore-Penrose"
      ],
      "metadata": {
        "id": "6_n4AIxMoFMg"
      }
    },
    {
      "cell_type": "markdown",
      "source": [
        "$MPP$ a unei matrici $A$, notata cu $A^+$, se calculeaza cu formula:             \n",
        " **$A^+$=$V$$D^+$$U^T$** in care:                                                \n",
        "  $U$, $D$ si $V$ sunt $SVD$ ale matricii $A$, cu $D^+$ obtinut prin inversarea valorilor nenule ale lui $D$"
      ],
      "metadata": {
        "id": "Wl7RgRzvoZru"
      }
    },
    {
      "cell_type": "markdown",
      "source": [
        "$MPP$ se foloseste pentru calcularea pseudoinversei a matricilor care nu indeplinesc conditiile pentru a putea fi inversate.\n",
        "\n",
        "Aceste conditii sunt:\n",
        "\n",
        "-matricea trebuie sa fie patrata (numar linii = numar coloane)\n",
        "\n",
        "-matricea este nesingulara (nu are linii sau coloane dependente una de cealalta)"
      ],
      "metadata": {
        "id": "Q-xvalpcqTyg"
      }
    },
    {
      "cell_type": "markdown",
      "source": [
        "Exemplu de calcul:"
      ],
      "metadata": {
        "id": "fc6cQps5rLVO"
      }
    },
    {
      "cell_type": "code",
      "source": [
        "import numpy as np\n",
        "import matplotlib.pyplot as plt"
      ],
      "metadata": {
        "id": "gHgyik1PrlGh"
      },
      "execution_count": 36,
      "outputs": []
    },
    {
      "cell_type": "code",
      "source": [
        "A=np.array([[-1,2],[3,-2],[5,7]])\n",
        "A"
      ],
      "metadata": {
        "colab": {
          "base_uri": "https://localhost:8080/"
        },
        "id": "w9q4t6FFr1Oi",
        "outputId": "1a566b68-065a-4538-a225-015e00146ac1"
      },
      "execution_count": 37,
      "outputs": [
        {
          "output_type": "execute_result",
          "data": {
            "text/plain": [
              "array([[-1,  2],\n",
              "       [ 3, -2],\n",
              "       [ 5,  7]])"
            ]
          },
          "metadata": {},
          "execution_count": 37
        }
      ]
    },
    {
      "cell_type": "markdown",
      "source": [
        "Se foloseste SVD pentru a afla $U$, $d$ si $V^T$"
      ],
      "metadata": {
        "id": "62ecXUZ7sP_w"
      }
    },
    {
      "cell_type": "code",
      "source": [
        "U, d, VT = np.linalg.svd(A)"
      ],
      "metadata": {
        "id": "kcBKw_8zsa_4"
      },
      "execution_count": 38,
      "outputs": []
    },
    {
      "cell_type": "code",
      "source": [
        "U"
      ],
      "metadata": {
        "colab": {
          "base_uri": "https://localhost:8080/"
        },
        "id": "b67JBwSfsop5",
        "outputId": "dd184cbf-b05c-4964-a349-c9cd1920ed70"
      },
      "execution_count": 39,
      "outputs": [
        {
          "output_type": "execute_result",
          "data": {
            "text/plain": [
              "array([[ 0.12708324,  0.47409506,  0.87125411],\n",
              "       [ 0.00164602, -0.87847553,  0.47778451],\n",
              "       [ 0.99189069, -0.0592843 , -0.11241989]])"
            ]
          },
          "metadata": {},
          "execution_count": 39
        }
      ]
    },
    {
      "cell_type": "code",
      "source": [
        "VT"
      ],
      "metadata": {
        "colab": {
          "base_uri": "https://localhost:8080/"
        },
        "id": "5qb082-ssqnA",
        "outputId": "5a96095e-f624-4727-efb2-d7f1b2de1001"
      },
      "execution_count": 40,
      "outputs": [
        {
          "output_type": "execute_result",
          "data": {
            "text/plain": [
              "array([[ 0.55798885,  0.82984845],\n",
              "       [-0.82984845,  0.55798885]])"
            ]
          },
          "metadata": {},
          "execution_count": 40
        }
      ]
    },
    {
      "cell_type": "code",
      "source": [
        "d"
      ],
      "metadata": {
        "colab": {
          "base_uri": "https://localhost:8080/"
        },
        "id": "uZ3Dw6F_ssuJ",
        "outputId": "92a3697f-1a92-4abe-d862-0876d028e845"
      },
      "execution_count": 41,
      "outputs": [
        {
          "output_type": "execute_result",
          "data": {
            "text/plain": [
              "array([8.66918448, 4.10429538])"
            ]
          },
          "metadata": {},
          "execution_count": 41
        }
      ]
    },
    {
      "cell_type": "markdown",
      "source": [
        "Se creaza matricea $D$ folosind singular values $d$:"
      ],
      "metadata": {
        "id": "AvS-TX_vs8tZ"
      }
    },
    {
      "cell_type": "code",
      "source": [
        "D=np.diag(d)\n",
        "D"
      ],
      "metadata": {
        "colab": {
          "base_uri": "https://localhost:8080/"
        },
        "id": "Iq08bpBUtHki",
        "outputId": "794ff9ad-8918-49ca-ea34-efc89715fd3a"
      },
      "execution_count": 42,
      "outputs": [
        {
          "output_type": "execute_result",
          "data": {
            "text/plain": [
              "array([[8.66918448, 0.        ],\n",
              "       [0.        , 4.10429538]])"
            ]
          },
          "metadata": {},
          "execution_count": 42
        }
      ]
    },
    {
      "cell_type": "markdown",
      "source": [
        "Se calculeaza $D^+$ prin inversarea matricii D:"
      ],
      "metadata": {
        "id": "cn8cmwcYtPlq"
      }
    },
    {
      "cell_type": "code",
      "source": [
        "Dinv=np.linalg.inv(D)\n",
        "Dinv"
      ],
      "metadata": {
        "colab": {
          "base_uri": "https://localhost:8080/"
        },
        "id": "1UaaJyZStXMl",
        "outputId": "a313dd01-0e1c-4f1c-8806-5aaefb15aa6d"
      },
      "execution_count": 43,
      "outputs": [
        {
          "output_type": "execute_result",
          "data": {
            "text/plain": [
              "array([[0.1153511 , 0.        ],\n",
              "       [0.        , 0.24364718]])"
            ]
          },
          "metadata": {},
          "execution_count": 43
        }
      ]
    },
    {
      "cell_type": "markdown",
      "source": [
        "$D^+$ trebuie sa aiba aceleasi dimensiuni ca si $A^T$. De aceea se adauga o coloana de 0 la Dinv:"
      ],
      "metadata": {
        "id": "RuKWTq9qttw9"
      }
    },
    {
      "cell_type": "code",
      "source": [
        "Dplus = np.concatenate((Dinv, np.array([[0, 0]]).T), axis=1)\n",
        "Dplus"
      ],
      "metadata": {
        "colab": {
          "base_uri": "https://localhost:8080/"
        },
        "id": "9YlzRVPCt9UA",
        "outputId": "87218a49-0512-4ec8-84eb-b3071835aa5a"
      },
      "execution_count": 44,
      "outputs": [
        {
          "output_type": "execute_result",
          "data": {
            "text/plain": [
              "array([[0.1153511 , 0.        , 0.        ],\n",
              "       [0.        , 0.24364718, 0.        ]])"
            ]
          },
          "metadata": {},
          "execution_count": 44
        }
      ]
    },
    {
      "cell_type": "markdown",
      "source": [
        "Acum se poate calcula $MPP$ $A^+$ folosind formula:\n",
        "\n",
        "$A^+$ = $V$$D^+$$U^T$:"
      ],
      "metadata": {
        "id": "BGzLc-w6w1cJ"
      }
    },
    {
      "cell_type": "code",
      "source": [
        "np.dot(VT.T, np.dot(Dplus, U.T))"
      ],
      "metadata": {
        "colab": {
          "base_uri": "https://localhost:8080/"
        },
        "id": "uMRTgeb5xQmH",
        "outputId": "6946cc2d-1532-489e-e956-7c95dd8f8964"
      },
      "execution_count": 45,
      "outputs": [
        {
          "output_type": "execute_result",
          "data": {
            "text/plain": [
              "array([[-0.08767773,  0.17772512,  0.07582938],\n",
              "       [ 0.07661927, -0.1192733 ,  0.08688784]])"
            ]
          },
          "metadata": {},
          "execution_count": 45
        }
      ]
    },
    {
      "cell_type": "markdown",
      "source": [
        "Numpy are o metoda directa pentru calculul $MPP$ $A^+$:"
      ],
      "metadata": {
        "id": "FaumU8cgxqVt"
      }
    },
    {
      "cell_type": "code",
      "source": [
        "np.linalg.pinv(A)"
      ],
      "metadata": {
        "colab": {
          "base_uri": "https://localhost:8080/"
        },
        "id": "cgpC3wNAx34p",
        "outputId": "ae2416b1-7896-4607-a37f-ce491388cc73"
      },
      "execution_count": 46,
      "outputs": [
        {
          "output_type": "execute_result",
          "data": {
            "text/plain": [
              "array([[-0.08767773,  0.17772512,  0.07582938],\n",
              "       [ 0.07661927, -0.1192733 ,  0.08688784]])"
            ]
          },
          "metadata": {},
          "execution_count": 46
        }
      ]
    },
    {
      "cell_type": "markdown",
      "source": [
        "##Exercitiu - Aplicare Moore-Penrose Pseudoinverse - $MPP$"
      ],
      "metadata": {
        "id": "TKRoIfv9yqfa"
      }
    },
    {
      "cell_type": "markdown",
      "source": [
        "$MPP$ este foarte util in practica Machine Learning unde se folosesc matrici care nu sunt patrate.\n",
        "\n",
        "Frecvent, in practica sunt situatii de tip *overdetermined*, cand numarul de linii al matricii este mai mare decat numarul de coloane (adica numarul de intrari in dataset este mai mare decat numarul de features)\n",
        "\n",
        "Sa consideram un exemplu minimal in care avem un numar de 8 datapoints (8 randuri in matrice)"
      ],
      "metadata": {
        "id": "5Zp6bFnTy1jG"
      }
    },
    {
      "cell_type": "code",
      "source": [
        "x1 = [0, 1, 2, 3, 4, 5, 6, 7] # De exemplu doza de medicament in mililitri pentru tratamentul Alzheimer\n",
        "y = [1.86, 1.31, .62, .33, .09, -.67, -1.23, -1.37] # Cuantificarea predispozitiei pacientului la uitare dupa administrare doza tratament"
      ],
      "metadata": {
        "id": "UgcDq2AH0M62"
      },
      "execution_count": 47,
      "outputs": []
    },
    {
      "cell_type": "code",
      "source": [
        "title = 'Teste clinice'\n",
        "xlabel = 'Doza medicament in mL'\n",
        "ylabel = 'Grad uitare'"
      ],
      "metadata": {
        "id": "qpER-5si1Agm"
      },
      "execution_count": 48,
      "outputs": []
    },
    {
      "cell_type": "code",
      "source": [
        "fig, ax=plt.subplots()\n",
        "plt.title(title)\n",
        "plt.xlabel(xlabel)\n",
        "plt.ylabel(ylabel)\n",
        "_=ax.scatter(x1,y)"
      ],
      "metadata": {
        "colab": {
          "base_uri": "https://localhost:8080/",
          "height": 472
        },
        "id": "4Jc7ZJMu1Rck",
        "outputId": "7b59cf63-6381-446c-c98d-f9c8983d2d34"
      },
      "execution_count": 58,
      "outputs": [
        {
          "output_type": "display_data",
          "data": {
            "text/plain": [
              "<Figure size 640x480 with 1 Axes>"
            ],
            "image/png": "[encoded data removed]"
          },
          "metadata": {}
        }
      ]
    },
    {
      "cell_type": "markdown",
      "source": [
        "Desi se pare ca exista doar un singur predictor ($x_1$), modelul are nevoie de un al doilea predictor (sa il numim $x_0$) pentru $y$-intercept. Fara aceasta a doua variabila, linia pe care o vom desena pe grafic va trebui sa treaca prin origine (0, 0). $y$-intercept este constant in toate punctele si il putem seta egal cu `1`:"
      ],
      "metadata": {
        "id": "Y1gu0f836e6H"
      }
    },
    {
      "cell_type": "code",
      "source": [
        "x0 = np.ones(8)\n",
        "x0"
      ],
      "metadata": {
        "colab": {
          "base_uri": "https://localhost:8080/"
        },
        "id": "Y1pVbyPj7Pj4",
        "outputId": "89f17c48-1ee3-485e-fc8b-5b980e853be6"
      },
      "execution_count": 62,
      "outputs": [
        {
          "output_type": "execute_result",
          "data": {
            "text/plain": [
              "array([1., 1., 1., 1., 1., 1., 1., 1.])"
            ]
          },
          "metadata": {},
          "execution_count": 62
        }
      ]
    },
    {
      "cell_type": "markdown",
      "source": [
        "Pasul urmator este concatenarea lui $x_0$ si a lui $x_1$ in matricea de features $X$:"
      ],
      "metadata": {
        "id": "n05cgXk47keu"
      }
    },
    {
      "cell_type": "code",
      "source": [
        "X = np.concatenate((np.matrix(x0).T, np.matrix(x1).T), axis=1)\n",
        "X"
      ],
      "metadata": {
        "colab": {
          "base_uri": "https://localhost:8080/"
        },
        "id": "4RXNe12u7zC3",
        "outputId": "fc9bebc3-1ca3-475e-95f1-0e18e4afc9ac"
      },
      "execution_count": 64,
      "outputs": [
        {
          "output_type": "execute_result",
          "data": {
            "text/plain": [
              "matrix([[1., 0.],\n",
              "        [1., 1.],\n",
              "        [1., 2.],\n",
              "        [1., 3.],\n",
              "        [1., 4.],\n",
              "        [1., 5.],\n",
              "        [1., 6.],\n",
              "        [1., 7.]])"
            ]
          },
          "metadata": {},
          "execution_count": 64
        }
      ]
    },
    {
      "cell_type": "markdown",
      "source": [
        "Pasul urmator este aflarea necunoscutelor din ecuatie, numite weights si notate $w$:"
      ],
      "metadata": {
        "id": "7rGGVKi48Ycd"
      }
    },
    {
      "cell_type": "code",
      "source": [
        "w = np.dot(np.linalg.pinv(X), y)\n",
        "w"
      ],
      "metadata": {
        "colab": {
          "base_uri": "https://localhost:8080/"
        },
        "id": "SrL63WrH8g34",
        "outputId": "f9d115fb-01ff-40d7-89cb-87deaa1f56ba"
      },
      "execution_count": 65,
      "outputs": [
        {
          "output_type": "execute_result",
          "data": {
            "text/plain": [
              "matrix([[ 1.76      , -0.46928571]])"
            ]
          },
          "metadata": {},
          "execution_count": 65
        }
      ]
    },
    {
      "cell_type": "markdown",
      "source": [
        "Prima valoare din w corespunde lui $y$-intercept, notat in mod uzual cu $b$:"
      ],
      "metadata": {
        "id": "CEfTYsAU8xrI"
      }
    },
    {
      "cell_type": "code",
      "source": [
        "b=np.asarray(w).reshape(-1)[0]\n",
        "b"
      ],
      "metadata": {
        "colab": {
          "base_uri": "https://localhost:8080/"
        },
        "id": "ojKEbFls89-_",
        "outputId": "75c497e5-d7f4-4e57-8ed2-e5fa2c86848f"
      },
      "execution_count": 66,
      "outputs": [
        {
          "output_type": "execute_result",
          "data": {
            "text/plain": [
              "1.7599999999999985"
            ]
          },
          "metadata": {},
          "execution_count": 66
        }
      ]
    },
    {
      "cell_type": "markdown",
      "source": [
        "In timp ce a doua valoare corespunde pantei dreptei, notata de obicei cu $m$:"
      ],
      "metadata": {
        "id": "yLLbELFo9T_v"
      }
    },
    {
      "cell_type": "code",
      "source": [
        "m=np.asarray(w).reshape(-1)[1]\n",
        "m"
      ],
      "metadata": {
        "colab": {
          "base_uri": "https://localhost:8080/"
        },
        "id": "Uu7qroWm9e8T",
        "outputId": "5a1f51fd-3b34-4f56-f727-0e8c32269bdd"
      },
      "execution_count": 67,
      "outputs": [
        {
          "output_type": "execute_result",
          "data": {
            "text/plain": [
              "-0.4692857142857139"
            ]
          },
          "metadata": {},
          "execution_count": 67
        }
      ]
    },
    {
      "cell_type": "markdown",
      "source": [
        "Dupa aflarea ponderilor $w$, se poate trasa dreapta pe grafic pentru a arata ca este o aproximare cat mai buna a punctelor din datasetul initial:"
      ],
      "metadata": {
        "id": "K7VwNKhI9t_c"
      }
    },
    {
      "cell_type": "code",
      "source": [
        "fig, ax = plt.subplots()\n",
        "plt.title(title)\n",
        "plt.xlabel(xlabel)\n",
        "plt.ylabel(ylabel)\n",
        "ax.scatter(x1,y)\n",
        "x_min, x_max = ax.get_xlim()\n",
        "y_la_xmin = m*x_min+b\n",
        "y_la_xmax = m*x_max+b\n",
        "ax.set_xlim([x_min, x_max])\n",
        "_=ax.plot([x_min,x_max], [y_la_xmin, y_la_xmax], c='C01')"
      ],
      "metadata": {
        "colab": {
          "base_uri": "https://localhost:8080/",
          "height": 472
        },
        "id": "kN5EQ87z96Z3",
        "outputId": "b381011a-32ee-4b21-8248-e6ea9967cb14"
      },
      "execution_count": 71,
      "outputs": [
        {
          "output_type": "display_data",
          "data": {
            "text/plain": [
              "<Figure size 640x480 with 1 Axes>"
            ],
            "image/png": "[encoded data removed]"
          },
          "metadata": {}
        }
      ]
    }
  ]
}