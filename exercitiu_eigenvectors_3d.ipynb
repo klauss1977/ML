{
  "nbformat": 4,
  "nbformat_minor": 0,
  "metadata": {
    "colab": {
      "provenance": [],
      "include_colab_link": true
    },
    "kernelspec": {
      "name": "python3",
      "display_name": "Python 3"
    },
    "language_info": {
      "name": "python"
    }
  },
  "cells": [
    {
      "cell_type": "markdown",
      "metadata": {
        "id": "view-in-github",
        "colab_type": "text"
      },
      "source": [
        "<a href=\"https://colab.research.google.com/github/klauss1977/ML/blob/main/exercitiu_eigenvectors_3d.ipynb\" target=\"_parent\"><img src=\"https://colab.research.google.com/assets/colab-badge.svg\" alt=\"Open In Colab\"/></a>"
      ]
    },
    {
      "cell_type": "markdown",
      "metadata": {
        "id": "VcjTZv24j3X3"
      },
      "source": [
        "**Exercises**:\n",
        "\n",
        "1. Use PyTorch to confirm $Xv = \\lambda v$ for the first eigenvector of $X$.\n",
        "2. Confirm $Xv = \\lambda v$ for the remaining eigenvectors of $X$ (you can use NumPy or PyTorch, whichever you prefer)."
      ]
    },
    {
      "cell_type": "markdown",
      "source": [
        "# New Section"
      ],
      "metadata": {
        "id": "ylrsHYN0EsxY"
      }
    },
    {
      "cell_type": "code",
      "metadata": {
        "id": "ixvqsCeFj3Uj"
      },
      "source": [
        "import numpy as np\n",
        "import torch"
      ],
      "execution_count": null,
      "outputs": []
    },
    {
      "cell_type": "markdown",
      "source": [
        "Definire si afisare matrice X in Py Torch. Atentie, trebuie sa fie float!!!"
      ],
      "metadata": {
        "id": "Y_8SwpvZhqnP"
      }
    },
    {
      "cell_type": "code",
      "source": [
        "X=torch.tensor([[25,2,9],[5,26,-5],[3,7,-1.]])\n",
        "X"
      ],
      "metadata": {
        "colab": {
          "base_uri": "https://localhost:8080/"
        },
        "id": "cY09JNeJf219",
        "outputId": "9fda47e2-a2af-4c15-ef7a-00afe3b396ac"
      },
      "execution_count": null,
      "outputs": [
        {
          "output_type": "execute_result",
          "data": {
            "text/plain": [
              "tensor([[25.,  2.,  9.],\n",
              "        [ 5., 26., -5.],\n",
              "        [ 3.,  7., -1.]])"
            ]
          },
          "metadata": {},
          "execution_count": 3
        }
      ]
    },
    {
      "cell_type": "markdown",
      "source": [
        "Aflare eigenvectori si eigenvalues pentru matricea X definita mai sus.\n",
        "Se foloseste metoda torch.linalg.eig() care va avea ca rezultat o pereche vector de eigenvalues si matrice de eigenvectori. Componentele vectorului de eigenvalues si matricii de eigenvectori sunt numere complexe."
      ],
      "metadata": {
        "id": "lhxBMQJ2ioaD"
      }
    },
    {
      "cell_type": "code",
      "source": [
        "eigens = torch.linalg.eig(X)"
      ],
      "metadata": {
        "id": "TPWFHOrpf7gA"
      },
      "execution_count": null,
      "outputs": []
    },
    {
      "cell_type": "markdown",
      "source": [
        "Afisare pereche eigens"
      ],
      "metadata": {
        "id": "jxD36z1sjc02"
      }
    },
    {
      "cell_type": "code",
      "source": [
        "eigens"
      ],
      "metadata": {
        "id": "lAwnKrS6f-oY",
        "colab": {
          "base_uri": "https://localhost:8080/"
        },
        "outputId": "c6df4f31-66c1-4405-acb0-71c908c0859c"
      },
      "execution_count": null,
      "outputs": [
        {
          "output_type": "execute_result",
          "data": {
            "text/plain": [
              "torch.return_types.linalg_eig(\n",
              "eigenvalues=tensor([29.6762+0.j, 20.6212+0.j, -0.2974+0.j]),\n",
              "eigenvectors=tensor([[ 0.7118+0.j,  0.6502+0.j, -0.3422+0.j],\n",
              "        [ 0.6665+0.j, -0.7446+0.j,  0.2379+0.j],\n",
              "        [ 0.2217+0.j, -0.1509+0.j,  0.9090+0.j]]))"
            ]
          },
          "metadata": {},
          "execution_count": 5
        }
      ]
    },
    {
      "cell_type": "markdown",
      "source": [
        "Extragere eigenvalue_1 si transformare in tip float"
      ],
      "metadata": {
        "id": "GT13QFlLji4g"
      }
    },
    {
      "cell_type": "code",
      "source": [
        "eigenvalue_1=eigens.eigenvalues[0].float()\n",
        "eigenvalue_1"
      ],
      "metadata": {
        "id": "fIP4iqE3M38e",
        "outputId": "40587e64-6c5e-4356-b64c-982143b45808",
        "colab": {
          "base_uri": "https://localhost:8080/"
        }
      },
      "execution_count": null,
      "outputs": [
        {
          "output_type": "execute_result",
          "data": {
            "text/plain": [
              "tensor(29.6762)"
            ]
          },
          "metadata": {},
          "execution_count": 7
        }
      ]
    },
    {
      "cell_type": "markdown",
      "source": [
        "Extragere eigenvalue_2 si transformare in tip float"
      ],
      "metadata": {
        "id": "vb5gQIrLjz0G"
      }
    },
    {
      "cell_type": "code",
      "source": [
        "eigenvalue_2=eigens.eigenvalues[1].float()\n",
        "eigenvalue_2"
      ],
      "metadata": {
        "id": "9aT3m1nYPEoI",
        "outputId": "e2b34385-5bbd-4724-feee-fa06b2c96881",
        "colab": {
          "base_uri": "https://localhost:8080/"
        }
      },
      "execution_count": null,
      "outputs": [
        {
          "output_type": "execute_result",
          "data": {
            "text/plain": [
              "tensor(20.6212)"
            ]
          },
          "metadata": {},
          "execution_count": 8
        }
      ]
    },
    {
      "cell_type": "markdown",
      "source": [
        "Extragere eigenvalue_3 si transformare in tip float"
      ],
      "metadata": {
        "id": "6CZ_F98WkARy"
      }
    },
    {
      "cell_type": "code",
      "source": [
        "eigenvalue_3=eigens.eigenvalues[2].float()\n",
        "eigenvalue_3"
      ],
      "metadata": {
        "id": "nQQFPPoxPb8x",
        "outputId": "1327e3a1-a7d2-435e-8695-b58451b71006",
        "colab": {
          "base_uri": "https://localhost:8080/"
        }
      },
      "execution_count": null,
      "outputs": [
        {
          "output_type": "execute_result",
          "data": {
            "text/plain": [
              "tensor(-0.2974)"
            ]
          },
          "metadata": {},
          "execution_count": 9
        }
      ]
    },
    {
      "cell_type": "markdown",
      "source": [
        "Extragere eigenvector_1 si transformare in tip float"
      ],
      "metadata": {
        "id": "UIeLZYSxkHHa"
      }
    },
    {
      "cell_type": "code",
      "source": [
        "eigenvector_1=eigens.eigenvectors[:,0].float()\n",
        "eigenvector_1"
      ],
      "metadata": {
        "id": "NGPKprohP3eE",
        "outputId": "68f0efed-9075-43a8-e6fc-8250483be5cb",
        "colab": {
          "base_uri": "https://localhost:8080/"
        }
      },
      "execution_count": null,
      "outputs": [
        {
          "output_type": "execute_result",
          "data": {
            "text/plain": [
              "tensor([0.7118, 0.6665, 0.2217])"
            ]
          },
          "metadata": {},
          "execution_count": 10
        }
      ]
    },
    {
      "cell_type": "markdown",
      "source": [
        "Extragere eigenvector_2 si transformare in tip float"
      ],
      "metadata": {
        "id": "Dx7dk2E7kXpk"
      }
    },
    {
      "cell_type": "code",
      "source": [
        "eigenvector_2=eigens.eigenvectors[:,1].float()\n",
        "eigenvector_2"
      ],
      "metadata": {
        "id": "EOdU2NpRdE38",
        "outputId": "3bfe6f34-8a40-4f45-9c93-381f80d3e243",
        "colab": {
          "base_uri": "https://localhost:8080/"
        }
      },
      "execution_count": null,
      "outputs": [
        {
          "output_type": "execute_result",
          "data": {
            "text/plain": [
              "tensor([ 0.6502, -0.7446, -0.1509])"
            ]
          },
          "metadata": {},
          "execution_count": 11
        }
      ]
    },
    {
      "cell_type": "markdown",
      "source": [
        "Extragere eigenvector_3 si transformare in tip float"
      ],
      "metadata": {
        "id": "pnl94zn2kaT4"
      }
    },
    {
      "cell_type": "code",
      "source": [
        "eigenvector_3=eigens.eigenvectors[:,2].float()\n",
        "eigenvector_3"
      ],
      "metadata": {
        "id": "9UZsVNl9dSGy",
        "outputId": "45de5f7e-6b84-41ca-a6da-ae87476f575c",
        "colab": {
          "base_uri": "https://localhost:8080/"
        }
      },
      "execution_count": null,
      "outputs": [
        {
          "output_type": "execute_result",
          "data": {
            "text/plain": [
              "tensor([-0.3422,  0.2379,  0.9090])"
            ]
          },
          "metadata": {},
          "execution_count": 12
        }
      ]
    },
    {
      "cell_type": "markdown",
      "source": [
        "Inmultire matrice X cu eigenvector_1"
      ],
      "metadata": {
        "id": "YSX_OqH1lG4l"
      }
    },
    {
      "cell_type": "code",
      "source": [
        "Xv_1=torch.matmul(X,eigenvector_1)\n",
        "Xv_1"
      ],
      "metadata": {
        "id": "L5Ppoq9RQQwz",
        "outputId": "776f514a-6e37-4f06-c8ef-51767337df66",
        "colab": {
          "base_uri": "https://localhost:8080/"
        }
      },
      "execution_count": null,
      "outputs": [
        {
          "output_type": "execute_result",
          "data": {
            "text/plain": [
              "tensor([21.1223, 19.7798,  6.5792])"
            ]
          },
          "metadata": {},
          "execution_count": 14
        }
      ]
    },
    {
      "cell_type": "markdown",
      "source": [
        "Inmultire eigenvalue_1 cu eigenvector_1.\n",
        "Se verifica egalitatea X *x* eigenvector_1==eigenvalue_1 *x* eigenvector_1"
      ],
      "metadata": {
        "id": "xWGE8DmblPpv"
      }
    },
    {
      "cell_type": "code",
      "source": [
        "eigenvalue_1*eigenvector_1"
      ],
      "metadata": {
        "id": "_sX3qXwHQ4oo",
        "outputId": "51ed6ce2-bbca-4099-d0c8-e5cf493889fd",
        "colab": {
          "base_uri": "https://localhost:8080/"
        }
      },
      "execution_count": null,
      "outputs": [
        {
          "output_type": "execute_result",
          "data": {
            "text/plain": [
              "tensor([21.1223, 19.7798,  6.5792])"
            ]
          },
          "metadata": {},
          "execution_count": 15
        }
      ]
    },
    {
      "cell_type": "markdown",
      "source": [
        "Inmultire matrice X cu eigenvector_2"
      ],
      "metadata": {
        "id": "SZvQX5rrlv-r"
      }
    },
    {
      "cell_type": "code",
      "source": [
        "Xv_2=torch.matmul(X,eigenvector_2)\n",
        "Xv_2"
      ],
      "metadata": {
        "id": "-oMGf4rgc5K5",
        "outputId": "a2eb3cd1-4782-441b-dc25-b84eb1c1a943",
        "colab": {
          "base_uri": "https://localhost:8080/"
        }
      },
      "execution_count": null,
      "outputs": [
        {
          "output_type": "execute_result",
          "data": {
            "text/plain": [
              "tensor([ 13.4077, -15.3554,  -3.1110])"
            ]
          },
          "metadata": {},
          "execution_count": 16
        }
      ]
    },
    {
      "cell_type": "markdown",
      "source": [
        "Inmultire eigenvalue_2 cu eigenvector_2.\n",
        "Se verifica egalitatea X *x* eigenvector_2==eigenvalue_2 *x* eigenvector_2"
      ],
      "metadata": {
        "id": "MeguXzn-l2sf"
      }
    },
    {
      "cell_type": "code",
      "source": [
        "eigenvalue_2*eigenvector_2"
      ],
      "metadata": {
        "id": "-3X3PmmndkRw",
        "outputId": "c640d8f7-5096-4e80-c1d9-b523990182ca",
        "colab": {
          "base_uri": "https://localhost:8080/"
        }
      },
      "execution_count": null,
      "outputs": [
        {
          "output_type": "execute_result",
          "data": {
            "text/plain": [
              "tensor([ 13.4077, -15.3554,  -3.1110])"
            ]
          },
          "metadata": {},
          "execution_count": 17
        }
      ]
    },
    {
      "cell_type": "markdown",
      "source": [
        "Inmultire matrice X cu eigenvector_3"
      ],
      "metadata": {
        "id": "m4koTLIBl-0J"
      }
    },
    {
      "cell_type": "code",
      "source": [
        "Xv_3=torch.matmul(X,eigenvector_3)\n",
        "Xv_3"
      ],
      "metadata": {
        "id": "Uvt7mPgadp1u",
        "outputId": "cbaea725-d17f-4c9c-ce99-5545247c0ec3",
        "colab": {
          "base_uri": "https://localhost:8080/"
        }
      },
      "execution_count": null,
      "outputs": [
        {
          "output_type": "execute_result",
          "data": {
            "text/plain": [
              "tensor([ 0.1018, -0.0708, -0.2703])"
            ]
          },
          "metadata": {},
          "execution_count": 18
        }
      ]
    },
    {
      "cell_type": "markdown",
      "source": [
        "Inmultire eigenvalue_3 cu eigenvector_3.\n",
        "Se verifica egalitatea X *x* eigenvector_3==eigenvalue_3 *x* eigenvector_3"
      ],
      "metadata": {
        "id": "qgK13DVcmJ6b"
      }
    },
    {
      "cell_type": "code",
      "source": [
        "eigenvalue_3*eigenvector_3"
      ],
      "metadata": {
        "id": "XNu_tglVd1US",
        "outputId": "601917dd-1fbb-412d-cbad-9df087d54826",
        "colab": {
          "base_uri": "https://localhost:8080/"
        }
      },
      "execution_count": null,
      "outputs": [
        {
          "output_type": "execute_result",
          "data": {
            "text/plain": [
              "tensor([ 0.1018, -0.0708, -0.2703])"
            ]
          },
          "metadata": {},
          "execution_count": 262
        }
      ]
    },
    {
      "cell_type": "markdown",
      "source": [
        "Aplicare metoda eig() in numpy"
      ],
      "metadata": {
        "id": "R01q4dmempru"
      }
    },
    {
      "cell_type": "code",
      "source": [
        "eigens_num=np.linalg.eig(X)\n",
        "eigens_num"
      ],
      "metadata": {
        "id": "N0cO-12JeBoH",
        "outputId": "43da4a59-de7c-46ff-a8d6-af06d182a972",
        "colab": {
          "base_uri": "https://localhost:8080/"
        }
      },
      "execution_count": null,
      "outputs": [
        {
          "output_type": "execute_result",
          "data": {
            "text/plain": [
              "(array([29.676231  , 20.621174  , -0.29740566], dtype=float32),\n",
              " array([[-0.71175736, -0.6501921 , -0.34220475],\n",
              "        [-0.66652125,  0.7446406 ,  0.23789717],\n",
              "        [-0.22170001,  0.15086636,  0.9090109 ]], dtype=float32))"
            ]
          },
          "metadata": {},
          "execution_count": 19
        }
      ]
    }
  ]
}